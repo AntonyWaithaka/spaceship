{
 "cells": [
  {
   "cell_type": "code",
   "execution_count": 2,
   "metadata": {
    "_cell_guid": "b1076dfc-b9ad-4769-8c92-a6c4dae69d19",
    "_uuid": "8f2839f25d086af736a60e9eeb907d3b93b6e0e5",
    "execution": {
     "iopub.execute_input": "2023-02-01T10:07:05.059332Z",
     "iopub.status.busy": "2023-02-01T10:07:05.058823Z",
     "iopub.status.idle": "2023-02-01T10:07:05.066850Z",
     "shell.execute_reply": "2023-02-01T10:07:05.065668Z",
     "shell.execute_reply.started": "2023-02-01T10:07:05.059293Z"
    }
   },
   "outputs": [
    {
     "ename": "ModuleNotFoundError",
     "evalue": "No module named 'lazypredict'",
     "output_type": "error",
     "traceback": [
      "\u001b[1;31m---------------------------------------------------------------------------\u001b[0m",
      "\u001b[1;31mModuleNotFoundError\u001b[0m                       Traceback (most recent call last)",
      "\u001b[1;32m<ipython-input-2-6136fecacc51>\u001b[0m in \u001b[0;36m<module>\u001b[1;34m\u001b[0m\n\u001b[0;32m     11\u001b[0m \u001b[1;32mfrom\u001b[0m \u001b[0mlightgbm\u001b[0m \u001b[1;32mimport\u001b[0m \u001b[0mLGBMClassifier\u001b[0m\u001b[1;33m\u001b[0m\u001b[1;33m\u001b[0m\u001b[0m\n\u001b[0;32m     12\u001b[0m \u001b[1;31m#!pip3 install -U lazypredict\u001b[0m\u001b[1;33m\u001b[0m\u001b[1;33m\u001b[0m\u001b[1;33m\u001b[0m\u001b[0m\n\u001b[1;32m---> 13\u001b[1;33m \u001b[1;32mimport\u001b[0m \u001b[0mlazypredict\u001b[0m\u001b[1;33m\u001b[0m\u001b[1;33m\u001b[0m\u001b[0m\n\u001b[0m\u001b[0;32m     14\u001b[0m \u001b[1;32mfrom\u001b[0m \u001b[0mlazypredict\u001b[0m\u001b[1;33m.\u001b[0m\u001b[0mSupervised\u001b[0m \u001b[1;32mimport\u001b[0m \u001b[0mLazyClassifier\u001b[0m\u001b[1;33m\u001b[0m\u001b[1;33m\u001b[0m\u001b[0m\n\u001b[0;32m     15\u001b[0m \u001b[1;33m\u001b[0m\u001b[0m\n",
      "\u001b[1;31mModuleNotFoundError\u001b[0m: No module named 'lazypredict'"
     ]
    }
   ],
   "source": [
    "import pandas as pd\n",
    "import numpy as np\n",
    "import seaborn as sns\n",
    "import matplotlib.pyplot as plt\n",
    "\n",
    "from sklearn.impute import SimpleImputer\n",
    "from sklearn.preprocessing import LabelEncoder\n",
    "from sklearn.model_selection import StratifiedKFold, train_test_split\n",
    "from sklearn.metrics import accuracy_score\n",
    "\n",
    "from lightgbm import LGBMClassifier\n",
    "#!pip3 install -U lazypredict\n",
    "import lazypredict\n",
    "from lazypredict.Supervised import LazyClassifier\n",
    "\n",
    "import time\n",
    "import warnings\n",
    "warnings.filterwarnings('ignore')\n",
    "from IPython.display import clear_output\n"
   ]
  },
  {
   "cell_type": "code",
   "execution_count": null,
   "metadata": {
    "execution": {
     "iopub.execute_input": "2023-02-01T10:07:05.160436Z",
     "iopub.status.busy": "2023-02-01T10:07:05.159605Z",
     "iopub.status.idle": "2023-02-01T10:07:05.217700Z",
     "shell.execute_reply": "2023-02-01T10:07:05.216238Z",
     "shell.execute_reply.started": "2023-02-01T10:07:05.160384Z"
    }
   },
   "outputs": [],
   "source": [
    "train = pd.read_csv('/kaggle/input/spaceship-titanic/train.csv')\n",
    "test = pd.read_csv('/kaggle/input/spaceship-titanic/test.csv')\n",
    "train.shape, test.shape"
   ]
  },
  {
   "cell_type": "code",
   "execution_count": null,
   "metadata": {
    "execution": {
     "iopub.execute_input": "2023-02-01T10:07:05.220926Z",
     "iopub.status.busy": "2023-02-01T10:07:05.220055Z",
     "iopub.status.idle": "2023-02-01T10:07:05.239590Z",
     "shell.execute_reply": "2023-02-01T10:07:05.238428Z",
     "shell.execute_reply.started": "2023-02-01T10:07:05.220872Z"
    }
   },
   "outputs": [],
   "source": [
    "train.head()"
   ]
  },
  {
   "cell_type": "code",
   "execution_count": null,
   "metadata": {
    "execution": {
     "iopub.execute_input": "2023-02-01T10:07:05.241678Z",
     "iopub.status.busy": "2023-02-01T10:07:05.241227Z",
     "iopub.status.idle": "2023-02-01T10:07:05.279529Z",
     "shell.execute_reply": "2023-02-01T10:07:05.278279Z",
     "shell.execute_reply.started": "2023-02-01T10:07:05.241632Z"
    }
   },
   "outputs": [],
   "source": [
    "train.describe()"
   ]
  },
  {
   "cell_type": "code",
   "execution_count": null,
   "metadata": {
    "execution": {
     "iopub.execute_input": "2023-02-01T10:07:05.282584Z",
     "iopub.status.busy": "2023-02-01T10:07:05.281435Z",
     "iopub.status.idle": "2023-02-01T10:07:05.301284Z",
     "shell.execute_reply": "2023-02-01T10:07:05.299949Z",
     "shell.execute_reply.started": "2023-02-01T10:07:05.282541Z"
    }
   },
   "outputs": [],
   "source": [
    "train.info()"
   ]
  },
  {
   "cell_type": "code",
   "execution_count": null,
   "metadata": {
    "execution": {
     "iopub.execute_input": "2023-02-01T10:07:05.303797Z",
     "iopub.status.busy": "2023-02-01T10:07:05.303316Z",
     "iopub.status.idle": "2023-02-01T10:07:05.317584Z",
     "shell.execute_reply": "2023-02-01T10:07:05.316275Z",
     "shell.execute_reply.started": "2023-02-01T10:07:05.303749Z"
    }
   },
   "outputs": [],
   "source": [
    "train.isnull().sum()"
   ]
  },
  {
   "cell_type": "markdown",
   "metadata": {},
   "source": []
  },
  {
   "cell_type": "markdown",
   "metadata": {},
   "source": [
    "# **EDA**"
   ]
  },
  {
   "cell_type": "code",
   "execution_count": null,
   "metadata": {
    "execution": {
     "iopub.execute_input": "2023-02-01T10:07:05.320413Z",
     "iopub.status.busy": "2023-02-01T10:07:05.319615Z",
     "iopub.status.idle": "2023-02-01T10:07:05.466363Z",
     "shell.execute_reply": "2023-02-01T10:07:05.464686Z",
     "shell.execute_reply.started": "2023-02-01T10:07:05.320363Z"
    }
   },
   "outputs": [],
   "source": [
    "sns.countplot(train['Transported'])"
   ]
  },
  {
   "cell_type": "code",
   "execution_count": null,
   "metadata": {
    "execution": {
     "iopub.execute_input": "2023-02-01T10:07:05.469137Z",
     "iopub.status.busy": "2023-02-01T10:07:05.468627Z",
     "iopub.status.idle": "2023-02-01T10:07:05.482831Z",
     "shell.execute_reply": "2023-02-01T10:07:05.481475Z",
     "shell.execute_reply.started": "2023-02-01T10:07:05.469074Z"
    }
   },
   "outputs": [],
   "source": [
    "HomeTransported = train.groupby(['HomePlanet', 'Transported']).size()\n",
    "HomeTransported"
   ]
  },
  {
   "cell_type": "code",
   "execution_count": null,
   "metadata": {
    "execution": {
     "iopub.execute_input": "2023-02-01T10:07:05.486670Z",
     "iopub.status.busy": "2023-02-01T10:07:05.486276Z",
     "iopub.status.idle": "2023-02-01T10:07:05.498847Z",
     "shell.execute_reply": "2023-02-01T10:07:05.497639Z",
     "shell.execute_reply.started": "2023-02-01T10:07:05.486636Z"
    }
   },
   "outputs": [],
   "source": [
    "DestinationTransported = train.groupby(['Transported', 'Destination']).size()\n",
    "DestinationTransported"
   ]
  },
  {
   "cell_type": "code",
   "execution_count": 3,
   "metadata": {
    "execution": {
     "iopub.execute_input": "2023-02-01T10:07:05.500404Z",
     "iopub.status.busy": "2023-02-01T10:07:05.500072Z",
     "iopub.status.idle": "2023-02-01T10:07:05.928343Z",
     "shell.execute_reply": "2023-02-01T10:07:05.927273Z",
     "shell.execute_reply.started": "2023-02-01T10:07:05.500374Z"
    }
   },
   "outputs": [
    {
     "ename": "NameError",
     "evalue": "name 'train' is not defined",
     "output_type": "error",
     "traceback": [
      "\u001b[1;31m---------------------------------------------------------------------------\u001b[0m",
      "\u001b[1;31mNameError\u001b[0m                                 Traceback (most recent call last)",
      "\u001b[1;32m<ipython-input-3-5a7ceb04858d>\u001b[0m in \u001b[0;36m<module>\u001b[1;34m\u001b[0m\n\u001b[0;32m      1\u001b[0m \u001b[1;31m# age distribution\u001b[0m\u001b[1;33m\u001b[0m\u001b[1;33m\u001b[0m\u001b[1;33m\u001b[0m\u001b[0m\n\u001b[1;32m----> 2\u001b[1;33m \u001b[0msns\u001b[0m\u001b[1;33m.\u001b[0m\u001b[0mdistplot\u001b[0m\u001b[1;33m(\u001b[0m\u001b[0mtrain\u001b[0m\u001b[1;33m[\u001b[0m\u001b[1;34m'Age'\u001b[0m\u001b[1;33m]\u001b[0m\u001b[1;33m,\u001b[0m \u001b[0mcolor\u001b[0m\u001b[1;33m=\u001b[0m\u001b[1;34m'red'\u001b[0m\u001b[1;33m,\u001b[0m \u001b[0mlabel\u001b[0m\u001b[1;33m=\u001b[0m\u001b[1;34m'train'\u001b[0m\u001b[1;33m)\u001b[0m\u001b[1;33m\u001b[0m\u001b[1;33m\u001b[0m\u001b[0m\n\u001b[0m\u001b[0;32m      3\u001b[0m \u001b[0msns\u001b[0m\u001b[1;33m.\u001b[0m\u001b[0mdistplot\u001b[0m\u001b[1;33m(\u001b[0m\u001b[0mtest\u001b[0m\u001b[1;33m[\u001b[0m\u001b[1;34m'Age'\u001b[0m\u001b[1;33m]\u001b[0m\u001b[1;33m,\u001b[0m \u001b[0mcolor\u001b[0m\u001b[1;33m=\u001b[0m\u001b[1;34m'green'\u001b[0m\u001b[1;33m,\u001b[0m \u001b[0mlabel\u001b[0m\u001b[1;33m=\u001b[0m\u001b[1;34m'test'\u001b[0m\u001b[1;33m)\u001b[0m\u001b[1;33m\u001b[0m\u001b[1;33m\u001b[0m\u001b[0m\n\u001b[0;32m      4\u001b[0m \u001b[0mplt\u001b[0m\u001b[1;33m.\u001b[0m\u001b[0mlegend\u001b[0m\u001b[1;33m(\u001b[0m\u001b[1;33m)\u001b[0m\u001b[1;33m\u001b[0m\u001b[1;33m\u001b[0m\u001b[0m\n",
      "\u001b[1;31mNameError\u001b[0m: name 'train' is not defined"
     ]
    }
   ],
   "source": [
    "# age distribution\n",
    "sns.distplot(train['Age'], color='red', label='train')\n",
    "sns.distplot(test['Age'], color='green', label='test')\n",
    "plt.legend()"
   ]
  },
  {
   "cell_type": "code",
   "execution_count": null,
   "metadata": {
    "execution": {
     "iopub.execute_input": "2023-02-01T10:07:05.930041Z",
     "iopub.status.busy": "2023-02-01T10:07:05.929719Z",
     "iopub.status.idle": "2023-02-01T10:07:06.443172Z",
     "shell.execute_reply": "2023-02-01T10:07:06.442031Z",
     "shell.execute_reply.started": "2023-02-01T10:07:05.930011Z"
    }
   },
   "outputs": [],
   "source": [
    "# count plots for the unique features\n",
    "cols = ['HomePlanet', 'CryoSleep', 'Destination', 'VIP']\n",
    "fig, ax = plt.subplots(2,2, figsize=(15, 12))\n",
    "for i, col in enumerate(cols):\n",
    "    plt.subplot(2,2,i+1)\n",
    "    sns.countplot(train[col])\n",
    "    plt.title(col)"
   ]
  },
  {
   "cell_type": "code",
   "execution_count": null,
   "metadata": {
    "execution": {
     "iopub.execute_input": "2023-02-01T10:07:06.444838Z",
     "iopub.status.busy": "2023-02-01T10:07:06.444486Z",
     "iopub.status.idle": "2023-02-01T10:07:07.098783Z",
     "shell.execute_reply": "2023-02-01T10:07:07.097520Z",
     "shell.execute_reply.started": "2023-02-01T10:07:06.444805Z"
    }
   },
   "outputs": [],
   "source": [
    "# count plot in relation to the target feature(Transported)\n",
    "cols = ['HomePlanet', 'CryoSleep', 'Destination', 'VIP']\n",
    "fig, ax = plt.subplots(2,2, figsize=(15, 12))\n",
    "for i, col in enumerate(cols):\n",
    "    plt.subplot(2,2,i+1)\n",
    "    sns.countplot(train[col], hue=train['Transported'])\n",
    "    plt.title(col)"
   ]
  },
  {
   "cell_type": "code",
   "execution_count": null,
   "metadata": {
    "execution": {
     "iopub.execute_input": "2023-02-01T10:07:07.100392Z",
     "iopub.status.busy": "2023-02-01T10:07:07.100011Z",
     "iopub.status.idle": "2023-02-01T10:07:07.790539Z",
     "shell.execute_reply": "2023-02-01T10:07:07.789186Z",
     "shell.execute_reply.started": "2023-02-01T10:07:07.100359Z"
    }
   },
   "outputs": [],
   "source": [
    "sns.heatmap(train.corr(), annot=True)"
   ]
  },
  {
   "cell_type": "code",
   "execution_count": null,
   "metadata": {
    "execution": {
     "iopub.execute_input": "2023-02-01T10:07:07.792745Z",
     "iopub.status.busy": "2023-02-01T10:07:07.792268Z",
     "iopub.status.idle": "2023-02-01T10:07:07.817637Z",
     "shell.execute_reply": "2023-02-01T10:07:07.816431Z",
     "shell.execute_reply.started": "2023-02-01T10:07:07.792700Z"
    }
   },
   "outputs": [],
   "source": [
    "# imputing missing values\n",
    "imputer_cols = ['Age', 'RoomService', 'FoodCourt', 'ShoppingMall', 'Spa', 'VRDeck']\n",
    "imputer = SimpleImputer(strategy='median')\n",
    "imputer.fit(train[imputer_cols])\n",
    "train[imputer_cols] = imputer.transform(train[imputer_cols])\n",
    "test[imputer_cols] = imputer.transform(test[imputer_cols])"
   ]
  },
  {
   "cell_type": "code",
   "execution_count": null,
   "metadata": {
    "execution": {
     "iopub.execute_input": "2023-02-01T10:07:07.819929Z",
     "iopub.status.busy": "2023-02-01T10:07:07.818950Z",
     "iopub.status.idle": "2023-02-01T10:07:07.836226Z",
     "shell.execute_reply": "2023-02-01T10:07:07.835187Z",
     "shell.execute_reply.started": "2023-02-01T10:07:07.819891Z"
    }
   },
   "outputs": [],
   "source": [
    "train['HomePlanet'].fillna('Z', inplace=True)\n",
    "test['HomePlanet'].fillna('Z', inplace=True)\n",
    "train.isnull().sum()"
   ]
  },
  {
   "cell_type": "code",
   "execution_count": null,
   "metadata": {
    "execution": {
     "iopub.execute_input": "2023-02-01T10:07:07.840080Z",
     "iopub.status.busy": "2023-02-01T10:07:07.839705Z",
     "iopub.status.idle": "2023-02-01T10:07:07.904114Z",
     "shell.execute_reply": "2023-02-01T10:07:07.902744Z",
     "shell.execute_reply.started": "2023-02-01T10:07:07.840046Z"
    }
   },
   "outputs": [],
   "source": [
    "# encoding categorical features\n",
    "label_cols = ['HomePlanet', 'CryoSleep', 'Cabin', 'Destination', 'VIP']\n",
    "def label_encoder(train, test, columns):\n",
    "    for col in columns:\n",
    "        train[col] = train[col].astype(str)\n",
    "        test[col] = test[col].astype(str)\n",
    "        train[col] = LabelEncoder().fit_transform(train[col])\n",
    "        test[col] = LabelEncoder().fit_transform(test[col])\n",
    "    return train, test\n",
    "train, test = label_encoder(train, test, label_cols)"
   ]
  },
  {
   "cell_type": "code",
   "execution_count": null,
   "metadata": {
    "execution": {
     "iopub.execute_input": "2023-02-01T10:07:07.907747Z",
     "iopub.status.busy": "2023-02-01T10:07:07.907236Z",
     "iopub.status.idle": "2023-02-01T10:07:07.926552Z",
     "shell.execute_reply": "2023-02-01T10:07:07.925158Z",
     "shell.execute_reply.started": "2023-02-01T10:07:07.907699Z"
    }
   },
   "outputs": [],
   "source": [
    "train.drop('PassengerId', axis=1, inplace=True)\n",
    "\n",
    "train.drop(['Name', 'Cabin'], axis=1, inplace=True)\n",
    "test.drop(['Name', 'Cabin'], axis=1, inplace=True)\n",
    "X = train.drop('Transported', axis=1)\n",
    "y = train['Transported']\n",
    "X_train, X_test, y_train, y_test = train_test_split(X, y, random_state=12, test_size=0.33)"
   ]
  },
  {
   "cell_type": "markdown",
   "metadata": {},
   "source": []
  },
  {
   "cell_type": "markdown",
   "metadata": {},
   "source": [
    "# **Modeling**"
   ]
  },
  {
   "cell_type": "code",
   "execution_count": null,
   "metadata": {
    "execution": {
     "iopub.execute_input": "2023-02-01T10:07:07.929569Z",
     "iopub.status.busy": "2023-02-01T10:07:07.928055Z",
     "iopub.status.idle": "2023-02-01T10:07:21.338838Z",
     "shell.execute_reply": "2023-02-01T10:07:21.337489Z",
     "shell.execute_reply.started": "2023-02-01T10:07:07.929513Z"
    }
   },
   "outputs": [],
   "source": [
    "clf = LazyClassifier(verbose=0, ignore_warnings=True, custom_metric=None, \n",
    "                     predictions=False,random_state=12, classifiers='all')\n",
    "models, predictions = clf.fit(X_train, X_test, y_train, y_test)\n",
    "#clear_output()"
   ]
  },
  {
   "cell_type": "code",
   "execution_count": null,
   "metadata": {
    "execution": {
     "iopub.execute_input": "2023-02-01T10:07:21.341136Z",
     "iopub.status.busy": "2023-02-01T10:07:21.340661Z",
     "iopub.status.idle": "2023-02-01T10:07:21.355730Z",
     "shell.execute_reply": "2023-02-01T10:07:21.354524Z",
     "shell.execute_reply.started": "2023-02-01T10:07:21.341073Z"
    }
   },
   "outputs": [],
   "source": [
    "models[:15]"
   ]
  },
  {
   "cell_type": "markdown",
   "metadata": {},
   "source": [
    "# **5 fold LGBM Classifier**"
   ]
  },
  {
   "cell_type": "code",
   "execution_count": null,
   "metadata": {
    "execution": {
     "iopub.execute_input": "2023-02-01T10:07:21.357750Z",
     "iopub.status.busy": "2023-02-01T10:07:21.357304Z",
     "iopub.status.idle": "2023-02-01T10:07:21.916783Z",
     "shell.execute_reply": "2023-02-01T10:07:21.915771Z",
     "shell.execute_reply.started": "2023-02-01T10:07:21.357707Z"
    }
   },
   "outputs": [],
   "source": [
    "lgb_params = {\n",
    "    'objective': 'binary', \n",
    "    'n_estimators': 50,\n",
    "    'learning_rate': 0.08\n",
    "}\n",
    "lgb_predictions = 0\n",
    "lgb_scores = []\n",
    "lgb_fimp = []\n",
    "LGBM_FEATURES = list(train.columns)[:-1]\n",
    "skf = StratifiedKFold(n_splits=5, shuffle=True, random_state=12)\n",
    "for fold, (train_idx, valid_idx) in enumerate(skf.split(train[LGBM_FEATURES], train['Transported'])):\n",
    "    print('')\n",
    "    start_time = time.time()\n",
    "    \n",
    "    X_train, X_valid =train.iloc[train_idx][LGBM_FEATURES],train.iloc[valid_idx][LGBM_FEATURES]\n",
    "    y_train, y_valid = train['Transported'].iloc[train_idx], train['Transported'].iloc[valid_idx]\n",
    "    \n",
    "    model = LGBMClassifier(**lgb_params)\n",
    "    model.fit(X_train, y_train, verbose=0)\n",
    "    \n",
    "    preds_valid = model.predict(X_valid)\n",
    "    acc = accuracy_score(y_valid, preds_valid)\n",
    "    lgb_scores.append(acc)\n",
    "    run_time = time.time() - start_time\n",
    "    \n",
    "    fim = pd.DataFrame(index=LGBM_FEATURES, data=model.feature_importances_,\n",
    "                      columns=[f'{fold}_importance'])\n",
    "    lgb_fimp.append(fim)\n",
    "    \n",
    "    print(f'Fold={fold+1}, Accuracy score: {acc:.2f}%, Run Time: {run_time:.2f}s')\n",
    "    test_preds = model.predict(test[LGBM_FEATURES])\n",
    "    lgb_predictions += test_preds/5\n",
    "    print('')\n",
    "print('Mean Accuracy: ', np.mean(lgb_scores))"
   ]
  },
  {
   "cell_type": "code",
   "execution_count": null,
   "metadata": {
    "execution": {
     "iopub.execute_input": "2023-02-01T10:07:21.918831Z",
     "iopub.status.busy": "2023-02-01T10:07:21.918203Z",
     "iopub.status.idle": "2023-02-01T10:07:22.303781Z",
     "shell.execute_reply": "2023-02-01T10:07:22.302619Z",
     "shell.execute_reply.started": "2023-02-01T10:07:21.918785Z"
    }
   },
   "outputs": [],
   "source": [
    "lgbm_fis_df = pd.concat(lgb_fimp, axis=1).head(15)\n",
    "lgbm_fis_df.sort_values('1_importance').plot(kind='barh', figsize=(15, 10), title='Feature Importance Across Folds')\n",
    "plt.show()"
   ]
  },
  {
   "cell_type": "code",
   "execution_count": null,
   "metadata": {
    "execution": {
     "iopub.execute_input": "2023-02-01T10:07:22.305577Z",
     "iopub.status.busy": "2023-02-01T10:07:22.305222Z",
     "iopub.status.idle": "2023-02-01T10:07:22.327586Z",
     "shell.execute_reply": "2023-02-01T10:07:22.326405Z",
     "shell.execute_reply.started": "2023-02-01T10:07:22.305544Z"
    }
   },
   "outputs": [],
   "source": [
    "output = pd.DataFrame({'PassengerId': test.PassengerId, 'Transported': lgb_predictions.astype('bool')})\n",
    "output.to_csv('submission.csv', index=False)\n",
    "output.head()"
   ]
  },
  {
   "cell_type": "code",
   "execution_count": null,
   "metadata": {},
   "outputs": [],
   "source": []
  }
 ],
 "metadata": {
  "kernelspec": {
   "display_name": "Python 3",
   "language": "python",
   "name": "python3"
  },
  "language_info": {
   "codemirror_mode": {
    "name": "ipython",
    "version": 3
   },
   "file_extension": ".py",
   "mimetype": "text/x-python",
   "name": "python",
   "nbconvert_exporter": "python",
   "pygments_lexer": "ipython3",
   "version": "3.8.8"
  }
 },
 "nbformat": 4,
 "nbformat_minor": 4
}
