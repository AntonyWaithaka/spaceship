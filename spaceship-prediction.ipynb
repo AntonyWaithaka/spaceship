{
 "cells": [
  {
   "cell_type": "code",
   "execution_count": 6,
   "metadata": {
    "_cell_guid": "b1076dfc-b9ad-4769-8c92-a6c4dae69d19",
    "_uuid": "8f2839f25d086af736a60e9eeb907d3b93b6e0e5",
    "execution": {
     "iopub.execute_input": "2023-02-01T10:07:05.059332Z",
     "iopub.status.busy": "2023-02-01T10:07:05.058823Z",
     "iopub.status.idle": "2023-02-01T10:07:05.066850Z",
     "shell.execute_reply": "2023-02-01T10:07:05.065668Z",
     "shell.execute_reply.started": "2023-02-01T10:07:05.059293Z"
    }
   },
   "outputs": [],
   "source": [
    "import pandas as pd\n",
    "import numpy as np\n",
    "import seaborn as sns\n",
    "import matplotlib.pyplot as plt\n",
    "\n",
    "from sklearn.impute import SimpleImputer\n",
    "from sklearn.preprocessing import LabelEncoder\n",
    "from sklearn.model_selection import StratifiedKFold, train_test_split\n",
    "from sklearn.metrics import accuracy_score\n",
    "\n",
    "from lightgbm import LGBMClassifier\n",
    "#!pip3 install -U lazypredict\n",
    "import lazypredict\n",
    "from lazypredict.Supervised import LazyClassifier\n",
    "\n",
    "import time\n",
    "import warnings\n",
    "warnings.filterwarnings('ignore')\n",
    "from IPython.display import clear_output\n"
   ]
  },
  {
   "cell_type": "code",
   "execution_count": 7,
   "metadata": {
    "execution": {
     "iopub.execute_input": "2023-02-01T10:07:05.160436Z",
     "iopub.status.busy": "2023-02-01T10:07:05.159605Z",
     "iopub.status.idle": "2023-02-01T10:07:05.217700Z",
     "shell.execute_reply": "2023-02-01T10:07:05.216238Z",
     "shell.execute_reply.started": "2023-02-01T10:07:05.160384Z"
    }
   },
   "outputs": [
    {
     "data": {
      "text/plain": [
       "((8693, 14), (4277, 13))"
      ]
     },
     "execution_count": 7,
     "metadata": {},
     "output_type": "execute_result"
    }
   ],
   "source": [
    "train = pd.read_csv('train.csv')\n",
    "test = pd.read_csv('test.csv')\n",
    "train.shape, test.shape"
   ]
  },
  {
   "cell_type": "code",
   "execution_count": 8,
   "metadata": {
    "execution": {
     "iopub.execute_input": "2023-02-01T10:07:05.220926Z",
     "iopub.status.busy": "2023-02-01T10:07:05.220055Z",
     "iopub.status.idle": "2023-02-01T10:07:05.239590Z",
     "shell.execute_reply": "2023-02-01T10:07:05.238428Z",
     "shell.execute_reply.started": "2023-02-01T10:07:05.220872Z"
    }
   },
   "outputs": [
    {
     "data": {
      "text/html": [
       "<div>\n",
       "<style scoped>\n",
       "    .dataframe tbody tr th:only-of-type {\n",
       "        vertical-align: middle;\n",
       "    }\n",
       "\n",
       "    .dataframe tbody tr th {\n",
       "        vertical-align: top;\n",
       "    }\n",
       "\n",
       "    .dataframe thead th {\n",
       "        text-align: right;\n",
       "    }\n",
       "</style>\n",
       "<table border=\"1\" class=\"dataframe\">\n",
       "  <thead>\n",
       "    <tr style=\"text-align: right;\">\n",
       "      <th></th>\n",
       "      <th>PassengerId</th>\n",
       "      <th>HomePlanet</th>\n",
       "      <th>CryoSleep</th>\n",
       "      <th>Cabin</th>\n",
       "      <th>Destination</th>\n",
       "      <th>Age</th>\n",
       "      <th>VIP</th>\n",
       "      <th>RoomService</th>\n",
       "      <th>FoodCourt</th>\n",
       "      <th>ShoppingMall</th>\n",
       "      <th>Spa</th>\n",
       "      <th>VRDeck</th>\n",
       "      <th>Name</th>\n",
       "      <th>Transported</th>\n",
       "    </tr>\n",
       "  </thead>\n",
       "  <tbody>\n",
       "    <tr>\n",
       "      <th>0</th>\n",
       "      <td>0001_01</td>\n",
       "      <td>Europa</td>\n",
       "      <td>False</td>\n",
       "      <td>B/0/P</td>\n",
       "      <td>TRAPPIST-1e</td>\n",
       "      <td>39.00</td>\n",
       "      <td>False</td>\n",
       "      <td>0.00</td>\n",
       "      <td>0.00</td>\n",
       "      <td>0.00</td>\n",
       "      <td>0.00</td>\n",
       "      <td>0.00</td>\n",
       "      <td>Maham Ofracculy</td>\n",
       "      <td>False</td>\n",
       "    </tr>\n",
       "    <tr>\n",
       "      <th>1</th>\n",
       "      <td>0002_01</td>\n",
       "      <td>Earth</td>\n",
       "      <td>False</td>\n",
       "      <td>F/0/S</td>\n",
       "      <td>TRAPPIST-1e</td>\n",
       "      <td>24.00</td>\n",
       "      <td>False</td>\n",
       "      <td>109.00</td>\n",
       "      <td>9.00</td>\n",
       "      <td>25.00</td>\n",
       "      <td>549.00</td>\n",
       "      <td>44.00</td>\n",
       "      <td>Juanna Vines</td>\n",
       "      <td>True</td>\n",
       "    </tr>\n",
       "    <tr>\n",
       "      <th>2</th>\n",
       "      <td>0003_01</td>\n",
       "      <td>Europa</td>\n",
       "      <td>False</td>\n",
       "      <td>A/0/S</td>\n",
       "      <td>TRAPPIST-1e</td>\n",
       "      <td>58.00</td>\n",
       "      <td>True</td>\n",
       "      <td>43.00</td>\n",
       "      <td>3576.00</td>\n",
       "      <td>0.00</td>\n",
       "      <td>6715.00</td>\n",
       "      <td>49.00</td>\n",
       "      <td>Altark Susent</td>\n",
       "      <td>False</td>\n",
       "    </tr>\n",
       "    <tr>\n",
       "      <th>3</th>\n",
       "      <td>0003_02</td>\n",
       "      <td>Europa</td>\n",
       "      <td>False</td>\n",
       "      <td>A/0/S</td>\n",
       "      <td>TRAPPIST-1e</td>\n",
       "      <td>33.00</td>\n",
       "      <td>False</td>\n",
       "      <td>0.00</td>\n",
       "      <td>1283.00</td>\n",
       "      <td>371.00</td>\n",
       "      <td>3329.00</td>\n",
       "      <td>193.00</td>\n",
       "      <td>Solam Susent</td>\n",
       "      <td>False</td>\n",
       "    </tr>\n",
       "    <tr>\n",
       "      <th>4</th>\n",
       "      <td>0004_01</td>\n",
       "      <td>Earth</td>\n",
       "      <td>False</td>\n",
       "      <td>F/1/S</td>\n",
       "      <td>TRAPPIST-1e</td>\n",
       "      <td>16.00</td>\n",
       "      <td>False</td>\n",
       "      <td>303.00</td>\n",
       "      <td>70.00</td>\n",
       "      <td>151.00</td>\n",
       "      <td>565.00</td>\n",
       "      <td>2.00</td>\n",
       "      <td>Willy Santantines</td>\n",
       "      <td>True</td>\n",
       "    </tr>\n",
       "  </tbody>\n",
       "</table>\n",
       "</div>"
      ],
      "text/plain": [
       "  PassengerId HomePlanet CryoSleep  Cabin  Destination   Age    VIP  \\\n",
       "0     0001_01     Europa     False  B/0/P  TRAPPIST-1e 39.00  False   \n",
       "1     0002_01      Earth     False  F/0/S  TRAPPIST-1e 24.00  False   \n",
       "2     0003_01     Europa     False  A/0/S  TRAPPIST-1e 58.00   True   \n",
       "3     0003_02     Europa     False  A/0/S  TRAPPIST-1e 33.00  False   \n",
       "4     0004_01      Earth     False  F/1/S  TRAPPIST-1e 16.00  False   \n",
       "\n",
       "   RoomService  FoodCourt  ShoppingMall     Spa  VRDeck               Name  \\\n",
       "0         0.00       0.00          0.00    0.00    0.00    Maham Ofracculy   \n",
       "1       109.00       9.00         25.00  549.00   44.00       Juanna Vines   \n",
       "2        43.00    3576.00          0.00 6715.00   49.00      Altark Susent   \n",
       "3         0.00    1283.00        371.00 3329.00  193.00       Solam Susent   \n",
       "4       303.00      70.00        151.00  565.00    2.00  Willy Santantines   \n",
       "\n",
       "   Transported  \n",
       "0        False  \n",
       "1         True  \n",
       "2        False  \n",
       "3        False  \n",
       "4         True  "
      ]
     },
     "execution_count": 8,
     "metadata": {},
     "output_type": "execute_result"
    }
   ],
   "source": [
    "train.head()"
   ]
  },
  {
   "cell_type": "code",
   "execution_count": 9,
   "metadata": {
    "execution": {
     "iopub.execute_input": "2023-02-01T10:07:05.241678Z",
     "iopub.status.busy": "2023-02-01T10:07:05.241227Z",
     "iopub.status.idle": "2023-02-01T10:07:05.279529Z",
     "shell.execute_reply": "2023-02-01T10:07:05.278279Z",
     "shell.execute_reply.started": "2023-02-01T10:07:05.241632Z"
    }
   },
   "outputs": [
    {
     "data": {
      "text/html": [
       "<div>\n",
       "<style scoped>\n",
       "    .dataframe tbody tr th:only-of-type {\n",
       "        vertical-align: middle;\n",
       "    }\n",
       "\n",
       "    .dataframe tbody tr th {\n",
       "        vertical-align: top;\n",
       "    }\n",
       "\n",
       "    .dataframe thead th {\n",
       "        text-align: right;\n",
       "    }\n",
       "</style>\n",
       "<table border=\"1\" class=\"dataframe\">\n",
       "  <thead>\n",
       "    <tr style=\"text-align: right;\">\n",
       "      <th></th>\n",
       "      <th>Age</th>\n",
       "      <th>RoomService</th>\n",
       "      <th>FoodCourt</th>\n",
       "      <th>ShoppingMall</th>\n",
       "      <th>Spa</th>\n",
       "      <th>VRDeck</th>\n",
       "    </tr>\n",
       "  </thead>\n",
       "  <tbody>\n",
       "    <tr>\n",
       "      <th>count</th>\n",
       "      <td>8514.00</td>\n",
       "      <td>8512.00</td>\n",
       "      <td>8510.00</td>\n",
       "      <td>8485.00</td>\n",
       "      <td>8510.00</td>\n",
       "      <td>8505.00</td>\n",
       "    </tr>\n",
       "    <tr>\n",
       "      <th>mean</th>\n",
       "      <td>28.83</td>\n",
       "      <td>224.69</td>\n",
       "      <td>458.08</td>\n",
       "      <td>173.73</td>\n",
       "      <td>311.14</td>\n",
       "      <td>304.85</td>\n",
       "    </tr>\n",
       "    <tr>\n",
       "      <th>std</th>\n",
       "      <td>14.49</td>\n",
       "      <td>666.72</td>\n",
       "      <td>1611.49</td>\n",
       "      <td>604.70</td>\n",
       "      <td>1136.71</td>\n",
       "      <td>1145.72</td>\n",
       "    </tr>\n",
       "    <tr>\n",
       "      <th>min</th>\n",
       "      <td>0.00</td>\n",
       "      <td>0.00</td>\n",
       "      <td>0.00</td>\n",
       "      <td>0.00</td>\n",
       "      <td>0.00</td>\n",
       "      <td>0.00</td>\n",
       "    </tr>\n",
       "    <tr>\n",
       "      <th>25%</th>\n",
       "      <td>19.00</td>\n",
       "      <td>0.00</td>\n",
       "      <td>0.00</td>\n",
       "      <td>0.00</td>\n",
       "      <td>0.00</td>\n",
       "      <td>0.00</td>\n",
       "    </tr>\n",
       "    <tr>\n",
       "      <th>50%</th>\n",
       "      <td>27.00</td>\n",
       "      <td>0.00</td>\n",
       "      <td>0.00</td>\n",
       "      <td>0.00</td>\n",
       "      <td>0.00</td>\n",
       "      <td>0.00</td>\n",
       "    </tr>\n",
       "    <tr>\n",
       "      <th>75%</th>\n",
       "      <td>38.00</td>\n",
       "      <td>47.00</td>\n",
       "      <td>76.00</td>\n",
       "      <td>27.00</td>\n",
       "      <td>59.00</td>\n",
       "      <td>46.00</td>\n",
       "    </tr>\n",
       "    <tr>\n",
       "      <th>max</th>\n",
       "      <td>79.00</td>\n",
       "      <td>14327.00</td>\n",
       "      <td>29813.00</td>\n",
       "      <td>23492.00</td>\n",
       "      <td>22408.00</td>\n",
       "      <td>24133.00</td>\n",
       "    </tr>\n",
       "  </tbody>\n",
       "</table>\n",
       "</div>"
      ],
      "text/plain": [
       "          Age  RoomService  FoodCourt  ShoppingMall      Spa   VRDeck\n",
       "count 8514.00      8512.00    8510.00       8485.00  8510.00  8505.00\n",
       "mean    28.83       224.69     458.08        173.73   311.14   304.85\n",
       "std     14.49       666.72    1611.49        604.70  1136.71  1145.72\n",
       "min      0.00         0.00       0.00          0.00     0.00     0.00\n",
       "25%     19.00         0.00       0.00          0.00     0.00     0.00\n",
       "50%     27.00         0.00       0.00          0.00     0.00     0.00\n",
       "75%     38.00        47.00      76.00         27.00    59.00    46.00\n",
       "max     79.00     14327.00   29813.00      23492.00 22408.00 24133.00"
      ]
     },
     "execution_count": 9,
     "metadata": {},
     "output_type": "execute_result"
    }
   ],
   "source": [
    "train.describe()"
   ]
  },
  {
   "cell_type": "code",
   "execution_count": 10,
   "metadata": {
    "execution": {
     "iopub.execute_input": "2023-02-01T10:07:05.282584Z",
     "iopub.status.busy": "2023-02-01T10:07:05.281435Z",
     "iopub.status.idle": "2023-02-01T10:07:05.301284Z",
     "shell.execute_reply": "2023-02-01T10:07:05.299949Z",
     "shell.execute_reply.started": "2023-02-01T10:07:05.282541Z"
    }
   },
   "outputs": [
    {
     "name": "stdout",
     "output_type": "stream",
     "text": [
      "<class 'pandas.core.frame.DataFrame'>\n",
      "RangeIndex: 8693 entries, 0 to 8692\n",
      "Data columns (total 14 columns):\n",
      " #   Column        Non-Null Count  Dtype  \n",
      "---  ------        --------------  -----  \n",
      " 0   PassengerId   8693 non-null   object \n",
      " 1   HomePlanet    8492 non-null   object \n",
      " 2   CryoSleep     8476 non-null   object \n",
      " 3   Cabin         8494 non-null   object \n",
      " 4   Destination   8511 non-null   object \n",
      " 5   Age           8514 non-null   float64\n",
      " 6   VIP           8490 non-null   object \n",
      " 7   RoomService   8512 non-null   float64\n",
      " 8   FoodCourt     8510 non-null   float64\n",
      " 9   ShoppingMall  8485 non-null   float64\n",
      " 10  Spa           8510 non-null   float64\n",
      " 11  VRDeck        8505 non-null   float64\n",
      " 12  Name          8493 non-null   object \n",
      " 13  Transported   8693 non-null   bool   \n",
      "dtypes: bool(1), float64(6), object(7)\n",
      "memory usage: 891.5+ KB\n"
     ]
    }
   ],
   "source": [
    "train.info()"
   ]
  },
  {
   "cell_type": "code",
   "execution_count": 11,
   "metadata": {
    "execution": {
     "iopub.execute_input": "2023-02-01T10:07:05.303797Z",
     "iopub.status.busy": "2023-02-01T10:07:05.303316Z",
     "iopub.status.idle": "2023-02-01T10:07:05.317584Z",
     "shell.execute_reply": "2023-02-01T10:07:05.316275Z",
     "shell.execute_reply.started": "2023-02-01T10:07:05.303749Z"
    }
   },
   "outputs": [
    {
     "data": {
      "text/plain": [
       "PassengerId       0\n",
       "HomePlanet      201\n",
       "CryoSleep       217\n",
       "Cabin           199\n",
       "Destination     182\n",
       "Age             179\n",
       "VIP             203\n",
       "RoomService     181\n",
       "FoodCourt       183\n",
       "ShoppingMall    208\n",
       "Spa             183\n",
       "VRDeck          188\n",
       "Name            200\n",
       "Transported       0\n",
       "dtype: int64"
      ]
     },
     "execution_count": 11,
     "metadata": {},
     "output_type": "execute_result"
    }
   ],
   "source": [
    "train.isnull().sum()"
   ]
  },
  {
   "cell_type": "markdown",
   "metadata": {},
   "source": []
  },
  {
   "cell_type": "markdown",
   "metadata": {},
   "source": [
    "# **EDA**"
   ]
  },
  {
   "cell_type": "code",
   "execution_count": 12,
   "metadata": {
    "execution": {
     "iopub.execute_input": "2023-02-01T10:07:05.320413Z",
     "iopub.status.busy": "2023-02-01T10:07:05.319615Z",
     "iopub.status.idle": "2023-02-01T10:07:05.466363Z",
     "shell.execute_reply": "2023-02-01T10:07:05.464686Z",
     "shell.execute_reply.started": "2023-02-01T10:07:05.320363Z"
    }
   },
   "outputs": [
    {
     "data": {
      "text/plain": [
       "<AxesSubplot:xlabel='Transported', ylabel='count'>"
      ]
     },
     "execution_count": 12,
     "metadata": {},
     "output_type": "execute_result"
    },
    {
     "data": {
      "image/png": "[encoded data removed]",
      "text/plain": [
       "<Figure size 432x288 with 1 Axes>"
      ]
     },
     "metadata": {
      "needs_background": "light"
     },
     "output_type": "display_data"
    }
   ],
   "source": [
    "sns.countplot(train['Transported'])"
   ]
  },
  {
   "cell_type": "code",
   "execution_count": 13,
   "metadata": {
    "execution": {
     "iopub.execute_input": "2023-02-01T10:07:05.469137Z",
     "iopub.status.busy": "2023-02-01T10:07:05.468627Z",
     "iopub.status.idle": "2023-02-01T10:07:05.482831Z",
     "shell.execute_reply": "2023-02-01T10:07:05.481475Z",
     "shell.execute_reply.started": "2023-02-01T10:07:05.469074Z"
    }
   },
   "outputs": [
    {
     "data": {
      "text/plain": [
       "HomePlanet  Transported\n",
       "Earth       False          2651\n",
       "            True           1951\n",
       "Europa      False           727\n",
       "            True           1404\n",
       "Mars        False           839\n",
       "            True            920\n",
       "dtype: int64"
      ]
     },
     "execution_count": 13,
     "metadata": {},
     "output_type": "execute_result"
    }
   ],
   "source": [
    "HomeTransported = train.groupby(['HomePlanet', 'Transported']).size()\n",
    "HomeTransported"
   ]
  },
  {
   "cell_type": "code",
   "execution_count": 14,
   "metadata": {
    "execution": {
     "iopub.execute_input": "2023-02-01T10:07:05.486670Z",
     "iopub.status.busy": "2023-02-01T10:07:05.486276Z",
     "iopub.status.idle": "2023-02-01T10:07:05.498847Z",
     "shell.execute_reply": "2023-02-01T10:07:05.497639Z",
     "shell.execute_reply.started": "2023-02-01T10:07:05.486636Z"
    }
   },
   "outputs": [
    {
     "data": {
      "text/plain": [
       "Transported  Destination  \n",
       "False        55 Cancri e       702\n",
       "             PSO J318.5-22     395\n",
       "             TRAPPIST-1e      3128\n",
       "True         55 Cancri e      1098\n",
       "             PSO J318.5-22     401\n",
       "             TRAPPIST-1e      2787\n",
       "dtype: int64"
      ]
     },
     "execution_count": 14,
     "metadata": {},
     "output_type": "execute_result"
    }
   ],
   "source": [
    "DestinationTransported = train.groupby(['Transported', 'Destination']).size()\n",
    "DestinationTransported"
   ]
  },
  {
   "cell_type": "code",
   "execution_count": 15,
   "metadata": {
    "execution": {
     "iopub.execute_input": "2023-02-01T10:07:05.500404Z",
     "iopub.status.busy": "2023-02-01T10:07:05.500072Z",
     "iopub.status.idle": "2023-02-01T10:07:05.928343Z",
     "shell.execute_reply": "2023-02-01T10:07:05.927273Z",
     "shell.execute_reply.started": "2023-02-01T10:07:05.500374Z"
    }
   },
   "outputs": [
    {
     "data": {
      "text/plain": [
       "<matplotlib.legend.Legend at 0x152c329c8b0>"
      ]
     },
     "execution_count": 15,
     "metadata": {},
     "output_type": "execute_result"
    },
    {
     "data": {
      "image/png": "[encoded data removed]",
      "text/plain": [
       "<Figure size 432x288 with 1 Axes>"
      ]
     },
     "metadata": {
      "needs_background": "light"
     },
     "output_type": "display_data"
    }
   ],
   "source": [
    "# age distribution\n",
    "sns.distplot(train['Age'], color='red', label='train')\n",
    "sns.distplot(test['Age'], color='green', label='test')\n",
    "plt.legend()"
   ]
  },
  {
   "cell_type": "code",
   "execution_count": 16,
   "metadata": {
    "execution": {
     "iopub.execute_input": "2023-02-01T10:07:05.930041Z",
     "iopub.status.busy": "2023-02-01T10:07:05.929719Z",
     "iopub.status.idle": "2023-02-01T10:07:06.443172Z",
     "shell.execute_reply": "2023-02-01T10:07:06.442031Z",
     "shell.execute_reply.started": "2023-02-01T10:07:05.930011Z"
    }
   },
   "outputs": [
    {
     "data": {
      "image/png": "[encoded data removed]",
      "text/plain": [
       "<Figure size 1080x864 with 4 Axes>"
      ]
     },
     "metadata": {
      "needs_background": "light"
     },
     "output_type": "display_data"
    }
   ],
   "source": [
    "# count plots for the unique features\n",
    "cols = ['HomePlanet', 'CryoSleep', 'Destination', 'VIP']\n",
    "fig, ax = plt.subplots(2,2, figsize=(15, 12))\n",
    "for i, col in enumerate(cols):\n",
    "    plt.subplot(2,2,i+1)\n",
    "    sns.countplot(train[col])\n",
    "    plt.title(col)"
   ]
  },
  {
   "cell_type": "code",
   "execution_count": 17,
   "metadata": {
    "execution": {
     "iopub.execute_input": "2023-02-01T10:07:06.444838Z",
     "iopub.status.busy": "2023-02-01T10:07:06.444486Z",
     "iopub.status.idle": "2023-02-01T10:07:07.098783Z",
     "shell.execute_reply": "2023-02-01T10:07:07.097520Z",
     "shell.execute_reply.started": "2023-02-01T10:07:06.444805Z"
    }
   },
   "outputs": [
    {
     "data": {
      "image/png": "[encoded data removed]",
      "text/plain": [
       "<Figure size 1080x864 with 4 Axes>"
      ]
     },
     "metadata": {
      "needs_background": "light"
     },
     "output_type": "display_data"
    }
   ],
   "source": [
    "# count plot in relation to the target feature(Transported)\n",
    "cols = ['HomePlanet', 'CryoSleep', 'Destination', 'VIP']\n",
    "fig, ax = plt.subplots(2,2, figsize=(15, 12))\n",
    "for i, col in enumerate(cols):\n",
    "    plt.subplot(2,2,i+1)\n",
    "    sns.countplot(train[col], hue=train['Transported'])\n",
    "    plt.title(col)"
   ]
  },
  {
   "cell_type": "code",
   "execution_count": 18,
   "metadata": {
    "execution": {
     "iopub.execute_input": "2023-02-01T10:07:07.100392Z",
     "iopub.status.busy": "2023-02-01T10:07:07.100011Z",
     "iopub.status.idle": "2023-02-01T10:07:07.790539Z",
     "shell.execute_reply": "2023-02-01T10:07:07.789186Z",
     "shell.execute_reply.started": "2023-02-01T10:07:07.100359Z"
    }
   },
   "outputs": [
    {
     "data": {
      "text/plain": [
       "<AxesSubplot:>"
      ]
     },
     "execution_count": 18,
     "metadata": {},
     "output_type": "execute_result"
    },
    {
     "data": {
      "image/png": "[encoded data removed]",
      "text/plain": [
       "<Figure size 432x288 with 2 Axes>"
      ]
     },
     "metadata": {
      "needs_background": "light"
     },
     "output_type": "display_data"
    }
   ],
   "source": [
    "sns.heatmap(train.corr(), annot=True)"
   ]
  },
  {
   "cell_type": "code",
   "execution_count": 19,
   "metadata": {
    "execution": {
     "iopub.execute_input": "2023-02-01T10:07:07.792745Z",
     "iopub.status.busy": "2023-02-01T10:07:07.792268Z",
     "iopub.status.idle": "2023-02-01T10:07:07.817637Z",
     "shell.execute_reply": "2023-02-01T10:07:07.816431Z",
     "shell.execute_reply.started": "2023-02-01T10:07:07.792700Z"
    }
   },
   "outputs": [],
   "source": [
    "# imputing missing values\n",
    "imputer_cols = ['Age', 'RoomService', 'FoodCourt', 'ShoppingMall', 'Spa', 'VRDeck']\n",
    "imputer = SimpleImputer(strategy='median')\n",
    "imputer.fit(train[imputer_cols])\n",
    "train[imputer_cols] = imputer.transform(train[imputer_cols])\n",
    "test[imputer_cols] = imputer.transform(test[imputer_cols])"
   ]
  },
  {
   "cell_type": "code",
   "execution_count": 20,
   "metadata": {
    "execution": {
     "iopub.execute_input": "2023-02-01T10:07:07.819929Z",
     "iopub.status.busy": "2023-02-01T10:07:07.818950Z",
     "iopub.status.idle": "2023-02-01T10:07:07.836226Z",
     "shell.execute_reply": "2023-02-01T10:07:07.835187Z",
     "shell.execute_reply.started": "2023-02-01T10:07:07.819891Z"
    }
   },
   "outputs": [
    {
     "data": {
      "text/plain": [
       "PassengerId       0\n",
       "HomePlanet        0\n",
       "CryoSleep       217\n",
       "Cabin           199\n",
       "Destination     182\n",
       "Age               0\n",
       "VIP             203\n",
       "RoomService       0\n",
       "FoodCourt         0\n",
       "ShoppingMall      0\n",
       "Spa               0\n",
       "VRDeck            0\n",
       "Name            200\n",
       "Transported       0\n",
       "dtype: int64"
      ]
     },
     "execution_count": 20,
     "metadata": {},
     "output_type": "execute_result"
    }
   ],
   "source": [
    "train['HomePlanet'].fillna('Z', inplace=True)\n",
    "test['HomePlanet'].fillna('Z', inplace=True)\n",
    "train.isnull().sum()"
   ]
  },
  {
   "cell_type": "code",
   "execution_count": 21,
   "metadata": {
    "execution": {
     "iopub.execute_input": "2023-02-01T10:07:07.840080Z",
     "iopub.status.busy": "2023-02-01T10:07:07.839705Z",
     "iopub.status.idle": "2023-02-01T10:07:07.904114Z",
     "shell.execute_reply": "2023-02-01T10:07:07.902744Z",
     "shell.execute_reply.started": "2023-02-01T10:07:07.840046Z"
    }
   },
   "outputs": [],
   "source": [
    "# encoding categorical features\n",
    "label_cols = ['HomePlanet', 'CryoSleep', 'Cabin', 'Destination', 'VIP']\n",
    "def label_encoder(train, test, columns):\n",
    "    for col in columns:\n",
    "        train[col] = train[col].astype(str)\n",
    "        test[col] = test[col].astype(str)\n",
    "        train[col] = LabelEncoder().fit_transform(train[col])\n",
    "        test[col] = LabelEncoder().fit_transform(test[col])\n",
    "    return train, test\n",
    "train, test = label_encoder(train, test, label_cols)"
   ]
  },
  {
   "cell_type": "code",
   "execution_count": 22,
   "metadata": {
    "execution": {
     "iopub.execute_input": "2023-02-01T10:07:07.907747Z",
     "iopub.status.busy": "2023-02-01T10:07:07.907236Z",
     "iopub.status.idle": "2023-02-01T10:07:07.926552Z",
     "shell.execute_reply": "2023-02-01T10:07:07.925158Z",
     "shell.execute_reply.started": "2023-02-01T10:07:07.907699Z"
    }
   },
   "outputs": [],
   "source": [
    "train.drop('PassengerId', axis=1, inplace=True)\n",
    "\n",
    "train.drop(['Name', 'Cabin'], axis=1, inplace=True)\n",
    "test.drop(['Name', 'Cabin'], axis=1, inplace=True)\n",
    "X = train.drop('Transported', axis=1)\n",
    "y = train['Transported']\n",
    "X_train, X_test, y_train, y_test = train_test_split(X, y, random_state=12, test_size=0.33)"
   ]
  },
  {
   "cell_type": "markdown",
   "metadata": {},
   "source": []
  },
  {
   "cell_type": "markdown",
   "metadata": {},
   "source": [
    "# **Modeling**"
   ]
  },
  {
   "cell_type": "code",
   "execution_count": 23,
   "metadata": {
    "execution": {
     "iopub.execute_input": "2023-02-01T10:07:07.929569Z",
     "iopub.status.busy": "2023-02-01T10:07:07.928055Z",
     "iopub.status.idle": "2023-02-01T10:07:21.338838Z",
     "shell.execute_reply": "2023-02-01T10:07:21.337489Z",
     "shell.execute_reply.started": "2023-02-01T10:07:07.929513Z"
    }
   },
   "outputs": [
    {
     "name": "stderr",
     "output_type": "stream",
     "text": [
      "100%|██████████████████████████████████████████████████████████████████████████████████| 29/29 [00:27<00:00,  1.05it/s]\n"
     ]
    }
   ],
   "source": [
    "clf = LazyClassifier(verbose=0, ignore_warnings=True, custom_metric=None, \n",
    "                     predictions=False,random_state=12, classifiers='all')\n",
    "models, predictions = clf.fit(X_train, X_test, y_train, y_test)\n",
    "#clear_output()"
   ]
  },
  {
   "cell_type": "code",
   "execution_count": 24,
   "metadata": {
    "execution": {
     "iopub.execute_input": "2023-02-01T10:07:21.341136Z",
     "iopub.status.busy": "2023-02-01T10:07:21.340661Z",
     "iopub.status.idle": "2023-02-01T10:07:21.355730Z",
     "shell.execute_reply": "2023-02-01T10:07:21.354524Z",
     "shell.execute_reply.started": "2023-02-01T10:07:21.341073Z"
    }
   },
   "outputs": [
    {
     "data": {
      "text/html": [
       "<div>\n",
       "<style scoped>\n",
       "    .dataframe tbody tr th:only-of-type {\n",
       "        vertical-align: middle;\n",
       "    }\n",
       "\n",
       "    .dataframe tbody tr th {\n",
       "        vertical-align: top;\n",
       "    }\n",
       "\n",
       "    .dataframe thead th {\n",
       "        text-align: right;\n",
       "    }\n",
       "</style>\n",
       "<table border=\"1\" class=\"dataframe\">\n",
       "  <thead>\n",
       "    <tr style=\"text-align: right;\">\n",
       "      <th></th>\n",
       "      <th>Accuracy</th>\n",
       "      <th>Balanced Accuracy</th>\n",
       "      <th>ROC AUC</th>\n",
       "      <th>F1 Score</th>\n",
       "      <th>Time Taken</th>\n",
       "    </tr>\n",
       "    <tr>\n",
       "      <th>Model</th>\n",
       "      <th></th>\n",
       "      <th></th>\n",
       "      <th></th>\n",
       "      <th></th>\n",
       "      <th></th>\n",
       "    </tr>\n",
       "  </thead>\n",
       "  <tbody>\n",
       "    <tr>\n",
       "      <th>LGBMClassifier</th>\n",
       "      <td>0.79</td>\n",
       "      <td>0.79</td>\n",
       "      <td>0.79</td>\n",
       "      <td>0.79</td>\n",
       "      <td>0.38</td>\n",
       "    </tr>\n",
       "    <tr>\n",
       "      <th>XGBClassifier</th>\n",
       "      <td>0.78</td>\n",
       "      <td>0.78</td>\n",
       "      <td>0.78</td>\n",
       "      <td>0.78</td>\n",
       "      <td>0.81</td>\n",
       "    </tr>\n",
       "    <tr>\n",
       "      <th>AdaBoostClassifier</th>\n",
       "      <td>0.77</td>\n",
       "      <td>0.77</td>\n",
       "      <td>0.77</td>\n",
       "      <td>0.77</td>\n",
       "      <td>0.90</td>\n",
       "    </tr>\n",
       "    <tr>\n",
       "      <th>RandomForestClassifier</th>\n",
       "      <td>0.77</td>\n",
       "      <td>0.77</td>\n",
       "      <td>0.77</td>\n",
       "      <td>0.77</td>\n",
       "      <td>1.98</td>\n",
       "    </tr>\n",
       "    <tr>\n",
       "      <th>NuSVC</th>\n",
       "      <td>0.77</td>\n",
       "      <td>0.77</td>\n",
       "      <td>0.77</td>\n",
       "      <td>0.77</td>\n",
       "      <td>4.78</td>\n",
       "    </tr>\n",
       "    <tr>\n",
       "      <th>LogisticRegression</th>\n",
       "      <td>0.77</td>\n",
       "      <td>0.77</td>\n",
       "      <td>0.77</td>\n",
       "      <td>0.77</td>\n",
       "      <td>0.33</td>\n",
       "    </tr>\n",
       "    <tr>\n",
       "      <th>SVC</th>\n",
       "      <td>0.77</td>\n",
       "      <td>0.77</td>\n",
       "      <td>0.77</td>\n",
       "      <td>0.77</td>\n",
       "      <td>3.76</td>\n",
       "    </tr>\n",
       "    <tr>\n",
       "      <th>ExtraTreesClassifier</th>\n",
       "      <td>0.76</td>\n",
       "      <td>0.76</td>\n",
       "      <td>0.76</td>\n",
       "      <td>0.76</td>\n",
       "      <td>1.40</td>\n",
       "    </tr>\n",
       "    <tr>\n",
       "      <th>LinearSVC</th>\n",
       "      <td>0.76</td>\n",
       "      <td>0.76</td>\n",
       "      <td>0.76</td>\n",
       "      <td>0.76</td>\n",
       "      <td>0.61</td>\n",
       "    </tr>\n",
       "    <tr>\n",
       "      <th>BaggingClassifier</th>\n",
       "      <td>0.76</td>\n",
       "      <td>0.76</td>\n",
       "      <td>0.76</td>\n",
       "      <td>0.76</td>\n",
       "      <td>0.44</td>\n",
       "    </tr>\n",
       "    <tr>\n",
       "      <th>LabelPropagation</th>\n",
       "      <td>0.76</td>\n",
       "      <td>0.76</td>\n",
       "      <td>0.76</td>\n",
       "      <td>0.76</td>\n",
       "      <td>3.06</td>\n",
       "    </tr>\n",
       "    <tr>\n",
       "      <th>LabelSpreading</th>\n",
       "      <td>0.76</td>\n",
       "      <td>0.76</td>\n",
       "      <td>0.76</td>\n",
       "      <td>0.76</td>\n",
       "      <td>3.92</td>\n",
       "    </tr>\n",
       "    <tr>\n",
       "      <th>CalibratedClassifierCV</th>\n",
       "      <td>0.76</td>\n",
       "      <td>0.76</td>\n",
       "      <td>0.76</td>\n",
       "      <td>0.76</td>\n",
       "      <td>2.60</td>\n",
       "    </tr>\n",
       "    <tr>\n",
       "      <th>KNeighborsClassifier</th>\n",
       "      <td>0.76</td>\n",
       "      <td>0.76</td>\n",
       "      <td>0.76</td>\n",
       "      <td>0.76</td>\n",
       "      <td>0.63</td>\n",
       "    </tr>\n",
       "    <tr>\n",
       "      <th>SGDClassifier</th>\n",
       "      <td>0.75</td>\n",
       "      <td>0.75</td>\n",
       "      <td>0.75</td>\n",
       "      <td>0.75</td>\n",
       "      <td>0.10</td>\n",
       "    </tr>\n",
       "  </tbody>\n",
       "</table>\n",
       "</div>"
      ],
      "text/plain": [
       "                        Accuracy  Balanced Accuracy  ROC AUC  F1 Score  \\\n",
       "Model                                                                    \n",
       "LGBMClassifier              0.79               0.79     0.79      0.79   \n",
       "XGBClassifier               0.78               0.78     0.78      0.78   \n",
       "AdaBoostClassifier          0.77               0.77     0.77      0.77   \n",
       "RandomForestClassifier      0.77               0.77     0.77      0.77   \n",
       "NuSVC                       0.77               0.77     0.77      0.77   \n",
       "LogisticRegression          0.77               0.77     0.77      0.77   \n",
       "SVC                         0.77               0.77     0.77      0.77   \n",
       "ExtraTreesClassifier        0.76               0.76     0.76      0.76   \n",
       "LinearSVC                   0.76               0.76     0.76      0.76   \n",
       "BaggingClassifier           0.76               0.76     0.76      0.76   \n",
       "LabelPropagation            0.76               0.76     0.76      0.76   \n",
       "LabelSpreading              0.76               0.76     0.76      0.76   \n",
       "CalibratedClassifierCV      0.76               0.76     0.76      0.76   \n",
       "KNeighborsClassifier        0.76               0.76     0.76      0.76   \n",
       "SGDClassifier               0.75               0.75     0.75      0.75   \n",
       "\n",
       "                        Time Taken  \n",
       "Model                               \n",
       "LGBMClassifier                0.38  \n",
       "XGBClassifier                 0.81  \n",
       "AdaBoostClassifier            0.90  \n",
       "RandomForestClassifier        1.98  \n",
       "NuSVC                         4.78  \n",
       "LogisticRegression            0.33  \n",
       "SVC                           3.76  \n",
       "ExtraTreesClassifier          1.40  \n",
       "LinearSVC                     0.61  \n",
       "BaggingClassifier             0.44  \n",
       "LabelPropagation              3.06  \n",
       "LabelSpreading                3.92  \n",
       "CalibratedClassifierCV        2.60  \n",
       "KNeighborsClassifier          0.63  \n",
       "SGDClassifier                 0.10  "
      ]
     },
     "execution_count": 24,
     "metadata": {},
     "output_type": "execute_result"
    }
   ],
   "source": [
    "models[:15]"
   ]
  },
  {
   "cell_type": "markdown",
   "metadata": {},
   "source": [
    "# **5 fold LGBM Classifier**"
   ]
  },
  {
   "cell_type": "code",
   "execution_count": 25,
   "metadata": {
    "execution": {
     "iopub.execute_input": "2023-02-01T10:07:21.357750Z",
     "iopub.status.busy": "2023-02-01T10:07:21.357304Z",
     "iopub.status.idle": "2023-02-01T10:07:21.916783Z",
     "shell.execute_reply": "2023-02-01T10:07:21.915771Z",
     "shell.execute_reply.started": "2023-02-01T10:07:21.357707Z"
    }
   },
   "outputs": [
    {
     "name": "stdout",
     "output_type": "stream",
     "text": [
      "\n",
      "Fold=1, Accuracy score: 0.81%, Run Time: 0.16s\n",
      "\n",
      "\n",
      "Fold=2, Accuracy score: 0.78%, Run Time: 0.16s\n",
      "\n",
      "\n",
      "Fold=3, Accuracy score: 0.79%, Run Time: 0.15s\n",
      "\n",
      "\n",
      "Fold=4, Accuracy score: 0.79%, Run Time: 0.16s\n",
      "\n",
      "\n",
      "Fold=5, Accuracy score: 0.81%, Run Time: 0.16s\n",
      "\n",
      "Mean Accuracy:  0.7958136330880743\n"
     ]
    }
   ],
   "source": [
    "lgb_params = {\n",
    "    'objective': 'binary', \n",
    "    'n_estimators': 50,\n",
    "    'learning_rate': 0.08\n",
    "}\n",
    "lgb_predictions = 0\n",
    "lgb_scores = []\n",
    "lgb_fimp = []\n",
    "LGBM_FEATURES = list(train.columns)[:-1]\n",
    "skf = StratifiedKFold(n_splits=5, shuffle=True, random_state=12)\n",
    "for fold, (train_idx, valid_idx) in enumerate(skf.split(train[LGBM_FEATURES], train['Transported'])):\n",
    "    print('')\n",
    "    start_time = time.time()\n",
    "    \n",
    "    X_train, X_valid =train.iloc[train_idx][LGBM_FEATURES],train.iloc[valid_idx][LGBM_FEATURES]\n",
    "    y_train, y_valid = train['Transported'].iloc[train_idx], train['Transported'].iloc[valid_idx]\n",
    "    \n",
    "    model = LGBMClassifier(**lgb_params)\n",
    "    model.fit(X_train, y_train, verbose=0)\n",
    "    \n",
    "    preds_valid = model.predict(X_valid)\n",
    "    acc = accuracy_score(y_valid, preds_valid)\n",
    "    lgb_scores.append(acc)\n",
    "    run_time = time.time() - start_time\n",
    "    \n",
    "    fim = pd.DataFrame(index=LGBM_FEATURES, data=model.feature_importances_,\n",
    "                      columns=[f'{fold}_importance'])\n",
    "    lgb_fimp.append(fim)\n",
    "    \n",
    "    print(f'Fold={fold+1}, Accuracy score: {acc:.2f}%, Run Time: {run_time:.2f}s')\n",
    "    test_preds = model.predict(test[LGBM_FEATURES])\n",
    "    lgb_predictions += test_preds/5\n",
    "    print('')\n",
    "print('Mean Accuracy: ', np.mean(lgb_scores))"
   ]
  },
  {
   "cell_type": "code",
   "execution_count": 26,
   "metadata": {
    "execution": {
     "iopub.execute_input": "2023-02-01T10:07:21.918831Z",
     "iopub.status.busy": "2023-02-01T10:07:21.918203Z",
     "iopub.status.idle": "2023-02-01T10:07:22.303781Z",
     "shell.execute_reply": "2023-02-01T10:07:22.302619Z",
     "shell.execute_reply.started": "2023-02-01T10:07:21.918785Z"
    }
   },
   "outputs": [
    {
     "data": {
      "image/png": "[encoded data removed]",
      "text/plain": [
       "<Figure size 1080x720 with 1 Axes>"
      ]
     },
     "metadata": {
      "needs_background": "light"
     },
     "output_type": "display_data"
    }
   ],
   "source": [
    "lgbm_fis_df = pd.concat(lgb_fimp, axis=1).head(15)\n",
    "lgbm_fis_df.sort_values('1_importance').plot(kind='barh', figsize=(15, 10), title='Feature Importance Across Folds')\n",
    "plt.show()"
   ]
  },
  {
   "cell_type": "code",
   "execution_count": 27,
   "metadata": {
    "execution": {
     "iopub.execute_input": "2023-02-01T10:07:22.305577Z",
     "iopub.status.busy": "2023-02-01T10:07:22.305222Z",
     "iopub.status.idle": "2023-02-01T10:07:22.327586Z",
     "shell.execute_reply": "2023-02-01T10:07:22.326405Z",
     "shell.execute_reply.started": "2023-02-01T10:07:22.305544Z"
    }
   },
   "outputs": [
    {
     "data": {
      "text/html": [
       "<div>\n",
       "<style scoped>\n",
       "    .dataframe tbody tr th:only-of-type {\n",
       "        vertical-align: middle;\n",
       "    }\n",
       "\n",
       "    .dataframe tbody tr th {\n",
       "        vertical-align: top;\n",
       "    }\n",
       "\n",
       "    .dataframe thead th {\n",
       "        text-align: right;\n",
       "    }\n",
       "</style>\n",
       "<table border=\"1\" class=\"dataframe\">\n",
       "  <thead>\n",
       "    <tr style=\"text-align: right;\">\n",
       "      <th></th>\n",
       "      <th>PassengerId</th>\n",
       "      <th>Transported</th>\n",
       "    </tr>\n",
       "  </thead>\n",
       "  <tbody>\n",
       "    <tr>\n",
       "      <th>0</th>\n",
       "      <td>0013_01</td>\n",
       "      <td>True</td>\n",
       "    </tr>\n",
       "    <tr>\n",
       "      <th>1</th>\n",
       "      <td>0018_01</td>\n",
       "      <td>False</td>\n",
       "    </tr>\n",
       "    <tr>\n",
       "      <th>2</th>\n",
       "      <td>0019_01</td>\n",
       "      <td>True</td>\n",
       "    </tr>\n",
       "    <tr>\n",
       "      <th>3</th>\n",
       "      <td>0021_01</td>\n",
       "      <td>True</td>\n",
       "    </tr>\n",
       "    <tr>\n",
       "      <th>4</th>\n",
       "      <td>0023_01</td>\n",
       "      <td>True</td>\n",
       "    </tr>\n",
       "  </tbody>\n",
       "</table>\n",
       "</div>"
      ],
      "text/plain": [
       "  PassengerId  Transported\n",
       "0     0013_01         True\n",
       "1     0018_01        False\n",
       "2     0019_01         True\n",
       "3     0021_01         True\n",
       "4     0023_01         True"
      ]
     },
     "execution_count": 27,
     "metadata": {},
     "output_type": "execute_result"
    }
   ],
   "source": [
    "output = pd.DataFrame({'PassengerId': test.PassengerId, 'Transported': lgb_predictions.astype('bool')})\n",
    "output.to_csv('submission.csv', index=False)\n",
    "output.head()"
   ]
  },
  {
   "cell_type": "code",
   "execution_count": null,
   "metadata": {},
   "outputs": [],
   "source": []
  }
 ],
 "metadata": {
  "kernelspec": {
   "display_name": "Python 3",
   "language": "python",
   "name": "python3"
  },
  "language_info": {
   "codemirror_mode": {
    "name": "ipython",
    "version": 3
   },
   "file_extension": ".py",
   "mimetype": "text/x-python",
   "name": "python",
   "nbconvert_exporter": "python",
   "pygments_lexer": "ipython3",
   "version": "3.8.8"
  }
 },
 "nbformat": 4,
 "nbformat_minor": 4
}
